{
  "nbformat": 4,
  "nbformat_minor": 0,
  "metadata": {
    "colab": {
      "name": "ann_s.ipynb",
      "provenance": [],
      "collapsed_sections": [],
      "authorship_tag": "ABX9TyNhg+8flBTz4KDcDdGvYVsL",
      "include_colab_link": true
    },
    "kernelspec": {
      "name": "python3",
      "display_name": "Python 3"
    }
  },
  "cells": [
    {
      "cell_type": "markdown",
      "metadata": {
        "id": "view-in-github",
        "colab_type": "text"
      },
      "source": [
        "<a href=\"https://colab.research.google.com/github/shila121/datasets/blob/main/ann_s.ipynb\" target=\"_parent\"><img src=\"https://colab.research.google.com/assets/colab-badge.svg\" alt=\"Open In Colab\"/></a>"
      ]
    },
    {
      "cell_type": "code",
      "metadata": {
        "id": "HHy5HO_JSUQn"
      },
      "source": [
        "# importing libraries\n",
        "\n",
        "import numpy as np\n",
        "import pandas as pd\n",
        "import tensorflow as tf\n"
      ],
      "execution_count": 1,
      "outputs": []
    },
    {
      "cell_type": "code",
      "metadata": {
        "colab": {
          "base_uri": "https://localhost:8080/",
          "height": 35
        },
        "id": "MQuBRdKrTGa9",
        "outputId": "7912dd06-135c-425a-ebfe-4779fc8c9872"
      },
      "source": [
        "tf.__version__"
      ],
      "execution_count": 2,
      "outputs": [
        {
          "output_type": "execute_result",
          "data": {
            "application/vnd.google.colaboratory.intrinsic+json": {
              "type": "string"
            },
            "text/plain": [
              "'2.3.0'"
            ]
          },
          "metadata": {
            "tags": []
          },
          "execution_count": 2
        }
      ]
    },
    {
      "cell_type": "code",
      "metadata": {
        "colab": {
          "base_uri": "https://localhost:8080/",
          "height": 204
        },
        "id": "pxdVl1LcTIfT",
        "outputId": "529ff920-bd92-4d7f-ec5b-c4b63913cb7c"
      },
      "source": [
        "# Part 1:Data preprocessing\n",
        "\n",
        "# importing the dataset\n",
        "dataset = pd.read_excel('Folds5x2_pp.xlsx')\n",
        "\n",
        "dataset.head()"
      ],
      "execution_count": 3,
      "outputs": [
        {
          "output_type": "execute_result",
          "data": {
            "text/html": [
              "<div>\n",
              "<style scoped>\n",
              "    .dataframe tbody tr th:only-of-type {\n",
              "        vertical-align: middle;\n",
              "    }\n",
              "\n",
              "    .dataframe tbody tr th {\n",
              "        vertical-align: top;\n",
              "    }\n",
              "\n",
              "    .dataframe thead th {\n",
              "        text-align: right;\n",
              "    }\n",
              "</style>\n",
              "<table border=\"1\" class=\"dataframe\">\n",
              "  <thead>\n",
              "    <tr style=\"text-align: right;\">\n",
              "      <th></th>\n",
              "      <th>AT</th>\n",
              "      <th>V</th>\n",
              "      <th>AP</th>\n",
              "      <th>RH</th>\n",
              "      <th>PE</th>\n",
              "    </tr>\n",
              "  </thead>\n",
              "  <tbody>\n",
              "    <tr>\n",
              "      <th>0</th>\n",
              "      <td>14.96</td>\n",
              "      <td>41.76</td>\n",
              "      <td>1024.07</td>\n",
              "      <td>73.17</td>\n",
              "      <td>463.26</td>\n",
              "    </tr>\n",
              "    <tr>\n",
              "      <th>1</th>\n",
              "      <td>25.18</td>\n",
              "      <td>62.96</td>\n",
              "      <td>1020.04</td>\n",
              "      <td>59.08</td>\n",
              "      <td>444.37</td>\n",
              "    </tr>\n",
              "    <tr>\n",
              "      <th>2</th>\n",
              "      <td>5.11</td>\n",
              "      <td>39.40</td>\n",
              "      <td>1012.16</td>\n",
              "      <td>92.14</td>\n",
              "      <td>488.56</td>\n",
              "    </tr>\n",
              "    <tr>\n",
              "      <th>3</th>\n",
              "      <td>20.86</td>\n",
              "      <td>57.32</td>\n",
              "      <td>1010.24</td>\n",
              "      <td>76.64</td>\n",
              "      <td>446.48</td>\n",
              "    </tr>\n",
              "    <tr>\n",
              "      <th>4</th>\n",
              "      <td>10.82</td>\n",
              "      <td>37.50</td>\n",
              "      <td>1009.23</td>\n",
              "      <td>96.62</td>\n",
              "      <td>473.90</td>\n",
              "    </tr>\n",
              "  </tbody>\n",
              "</table>\n",
              "</div>"
            ],
            "text/plain": [
              "      AT      V       AP     RH      PE\n",
              "0  14.96  41.76  1024.07  73.17  463.26\n",
              "1  25.18  62.96  1020.04  59.08  444.37\n",
              "2   5.11  39.40  1012.16  92.14  488.56\n",
              "3  20.86  57.32  1010.24  76.64  446.48\n",
              "4  10.82  37.50  1009.23  96.62  473.90"
            ]
          },
          "metadata": {
            "tags": []
          },
          "execution_count": 3
        }
      ]
    },
    {
      "cell_type": "code",
      "metadata": {
        "colab": {
          "base_uri": "https://localhost:8080/"
        },
        "id": "ddl_ZJbOU5b4",
        "outputId": "deef5c1e-ad7f-43e0-aaff-44c537b0331e"
      },
      "source": [
        "# splitting the data into features and target\n",
        "X = dataset.iloc[:,:-1].values\n",
        "y = dataset.iloc[:,-1].values\n",
        "\n",
        "print(X)\n",
        "print(y)"
      ],
      "execution_count": 4,
      "outputs": [
        {
          "output_type": "stream",
          "text": [
            "[[  14.96   41.76 1024.07   73.17]\n",
            " [  25.18   62.96 1020.04   59.08]\n",
            " [   5.11   39.4  1012.16   92.14]\n",
            " ...\n",
            " [  31.32   74.33 1012.92   36.48]\n",
            " [  24.48   69.45 1013.86   62.39]\n",
            " [  21.6    62.52 1017.23   67.87]]\n",
            "[463.26 444.37 488.56 ... 429.57 435.74 453.28]\n"
          ],
          "name": "stdout"
        }
      ]
    },
    {
      "cell_type": "code",
      "metadata": {
        "id": "JcP8eevZW-zE"
      },
      "source": [
        "# splitting the dataset into training and test set\n",
        "from sklearn.model_selection import train_test_split\n",
        "X_train,X_test,y_train,y_test = train_test_split(X,y,test_size = 0.2,random_state = 0)"
      ],
      "execution_count": 5,
      "outputs": []
    },
    {
      "cell_type": "code",
      "metadata": {
        "id": "_lIapCufZeL2"
      },
      "source": [
        "# Part 2:Building ANN\n",
        "\n",
        "# initalistion of ann\n",
        "ann = tf.keras.models.Sequential()\n",
        "\n",
        "# adding input layer and first hidden layer\n",
        "ann.add(tf.keras.layers.Dense(units = 6,activation ='relu'))\n",
        "\n",
        "# adding second hidden layer\n",
        "ann.add(tf.keras.layers.Dense(units = 6,activation = 'relu'))\n",
        "\n",
        "# adding output layer\n",
        "ann.add(tf.keras.layers.Dense(units = 1))"
      ],
      "execution_count": 6,
      "outputs": []
    },
    {
      "cell_type": "code",
      "metadata": {
        "colab": {
          "base_uri": "https://localhost:8080/"
        },
        "id": "0vZ7vKhLcykG",
        "outputId": "49540e67-7533-40d4-f519-fb109ec3c71c"
      },
      "source": [
        "# Part 3:Training ANN\n",
        "\n",
        "# compiling the output\n",
        "ann.compile(optimizer = 'adam' ,loss = 'mean_squared_error')\n",
        "\n",
        "# training ann on training dataset\n",
        "ann.fit(X_train,y_train,batch_size = 32 , epochs =100)"
      ],
      "execution_count": 7,
      "outputs": [
        {
          "output_type": "stream",
          "text": [
            "Epoch 1/100\n",
            "240/240 [==============================] - 0s 799us/step - loss: 58920.4414\n",
            "Epoch 2/100\n",
            "240/240 [==============================] - 0s 801us/step - loss: 409.2026\n",
            "Epoch 3/100\n",
            "240/240 [==============================] - 0s 823us/step - loss: 394.3663\n",
            "Epoch 4/100\n",
            "240/240 [==============================] - 0s 833us/step - loss: 376.0340\n",
            "Epoch 5/100\n",
            "240/240 [==============================] - 0s 794us/step - loss: 354.7352\n",
            "Epoch 6/100\n",
            "240/240 [==============================] - 0s 867us/step - loss: 331.1653\n",
            "Epoch 7/100\n",
            "240/240 [==============================] - 0s 775us/step - loss: 304.8435\n",
            "Epoch 8/100\n",
            "240/240 [==============================] - 0s 752us/step - loss: 277.9745\n",
            "Epoch 9/100\n",
            "240/240 [==============================] - 0s 824us/step - loss: 250.5782\n",
            "Epoch 10/100\n",
            "240/240 [==============================] - 0s 808us/step - loss: 222.3060\n",
            "Epoch 11/100\n",
            "240/240 [==============================] - 0s 790us/step - loss: 194.3427\n",
            "Epoch 12/100\n",
            "240/240 [==============================] - 0s 786us/step - loss: 166.9849\n",
            "Epoch 13/100\n",
            "240/240 [==============================] - 0s 758us/step - loss: 141.9866\n",
            "Epoch 14/100\n",
            "240/240 [==============================] - 0s 821us/step - loss: 118.2930\n",
            "Epoch 15/100\n",
            "240/240 [==============================] - 0s 767us/step - loss: 97.5711\n",
            "Epoch 16/100\n",
            "240/240 [==============================] - 0s 833us/step - loss: 80.1419\n",
            "Epoch 17/100\n",
            "240/240 [==============================] - 0s 868us/step - loss: 66.1484\n",
            "Epoch 18/100\n",
            "240/240 [==============================] - 0s 780us/step - loss: 55.6331\n",
            "Epoch 19/100\n",
            "240/240 [==============================] - 0s 874us/step - loss: 47.4222\n",
            "Epoch 20/100\n",
            "240/240 [==============================] - 0s 758us/step - loss: 42.5342\n",
            "Epoch 21/100\n",
            "240/240 [==============================] - 0s 795us/step - loss: 38.6951\n",
            "Epoch 22/100\n",
            "240/240 [==============================] - 0s 811us/step - loss: 36.2480\n",
            "Epoch 23/100\n",
            "240/240 [==============================] - 0s 884us/step - loss: 34.2753\n",
            "Epoch 24/100\n",
            "240/240 [==============================] - 0s 907us/step - loss: 33.0227\n",
            "Epoch 25/100\n",
            "240/240 [==============================] - 0s 886us/step - loss: 31.6529\n",
            "Epoch 26/100\n",
            "240/240 [==============================] - 0s 822us/step - loss: 31.2561\n",
            "Epoch 27/100\n",
            "240/240 [==============================] - 0s 820us/step - loss: 30.5963\n",
            "Epoch 28/100\n",
            "240/240 [==============================] - 0s 780us/step - loss: 30.1171\n",
            "Epoch 29/100\n",
            "240/240 [==============================] - 0s 985us/step - loss: 29.2567\n",
            "Epoch 30/100\n",
            "240/240 [==============================] - 0s 784us/step - loss: 29.8041\n",
            "Epoch 31/100\n",
            "240/240 [==============================] - 0s 800us/step - loss: 29.1271\n",
            "Epoch 32/100\n",
            "240/240 [==============================] - 0s 807us/step - loss: 29.0863\n",
            "Epoch 33/100\n",
            "240/240 [==============================] - 0s 883us/step - loss: 29.1543\n",
            "Epoch 34/100\n",
            "240/240 [==============================] - 0s 914us/step - loss: 28.2160\n",
            "Epoch 35/100\n",
            "240/240 [==============================] - 0s 795us/step - loss: 28.8351\n",
            "Epoch 36/100\n",
            "240/240 [==============================] - 0s 785us/step - loss: 28.0798\n",
            "Epoch 37/100\n",
            "240/240 [==============================] - 0s 770us/step - loss: 27.8490\n",
            "Epoch 38/100\n",
            "240/240 [==============================] - 0s 782us/step - loss: 28.2574\n",
            "Epoch 39/100\n",
            "240/240 [==============================] - 0s 817us/step - loss: 27.8993\n",
            "Epoch 40/100\n",
            "240/240 [==============================] - 0s 783us/step - loss: 27.8333\n",
            "Epoch 41/100\n",
            "240/240 [==============================] - 0s 812us/step - loss: 27.2077\n",
            "Epoch 42/100\n",
            "240/240 [==============================] - 0s 820us/step - loss: 28.1550\n",
            "Epoch 43/100\n",
            "240/240 [==============================] - 0s 787us/step - loss: 27.2022\n",
            "Epoch 44/100\n",
            "240/240 [==============================] - 0s 798us/step - loss: 27.2243\n",
            "Epoch 45/100\n",
            "240/240 [==============================] - 0s 782us/step - loss: 27.6486\n",
            "Epoch 46/100\n",
            "240/240 [==============================] - 0s 829us/step - loss: 27.6701\n",
            "Epoch 47/100\n",
            "240/240 [==============================] - 0s 816us/step - loss: 27.1836\n",
            "Epoch 48/100\n",
            "240/240 [==============================] - 0s 785us/step - loss: 27.5366\n",
            "Epoch 49/100\n",
            "240/240 [==============================] - 0s 903us/step - loss: 27.2455\n",
            "Epoch 50/100\n",
            "240/240 [==============================] - 0s 801us/step - loss: 27.4983\n",
            "Epoch 51/100\n",
            "240/240 [==============================] - 0s 912us/step - loss: 26.7883\n",
            "Epoch 52/100\n",
            "240/240 [==============================] - 0s 811us/step - loss: 26.9293\n",
            "Epoch 53/100\n",
            "240/240 [==============================] - 0s 893us/step - loss: 26.7357\n",
            "Epoch 54/100\n",
            "240/240 [==============================] - 0s 926us/step - loss: 26.6771\n",
            "Epoch 55/100\n",
            "240/240 [==============================] - 0s 791us/step - loss: 26.7098\n",
            "Epoch 56/100\n",
            "240/240 [==============================] - 0s 779us/step - loss: 26.7746\n",
            "Epoch 57/100\n",
            "240/240 [==============================] - 0s 831us/step - loss: 26.9339\n",
            "Epoch 58/100\n",
            "240/240 [==============================] - 0s 808us/step - loss: 27.3826\n",
            "Epoch 59/100\n",
            "240/240 [==============================] - 0s 867us/step - loss: 26.5436\n",
            "Epoch 60/100\n",
            "240/240 [==============================] - 0s 822us/step - loss: 26.8301\n",
            "Epoch 61/100\n",
            "240/240 [==============================] - 0s 815us/step - loss: 26.8185\n",
            "Epoch 62/100\n",
            "240/240 [==============================] - 0s 811us/step - loss: 26.5104\n",
            "Epoch 63/100\n",
            "240/240 [==============================] - 0s 784us/step - loss: 27.2572\n",
            "Epoch 64/100\n",
            "240/240 [==============================] - 0s 888us/step - loss: 26.7235\n",
            "Epoch 65/100\n",
            "240/240 [==============================] - 0s 923us/step - loss: 26.6236\n",
            "Epoch 66/100\n",
            "240/240 [==============================] - 0s 820us/step - loss: 27.0749\n",
            "Epoch 67/100\n",
            "240/240 [==============================] - 0s 805us/step - loss: 27.0531\n",
            "Epoch 68/100\n",
            "240/240 [==============================] - 0s 806us/step - loss: 26.8800\n",
            "Epoch 69/100\n",
            "240/240 [==============================] - 0s 830us/step - loss: 26.9277\n",
            "Epoch 70/100\n",
            "240/240 [==============================] - 0s 805us/step - loss: 26.6051\n",
            "Epoch 71/100\n",
            "240/240 [==============================] - 0s 898us/step - loss: 26.6734\n",
            "Epoch 72/100\n",
            "240/240 [==============================] - 0s 816us/step - loss: 26.5935\n",
            "Epoch 73/100\n",
            "240/240 [==============================] - 0s 785us/step - loss: 27.5828\n",
            "Epoch 74/100\n",
            "240/240 [==============================] - 0s 832us/step - loss: 26.8275\n",
            "Epoch 75/100\n",
            "240/240 [==============================] - 0s 823us/step - loss: 26.4792\n",
            "Epoch 76/100\n",
            "240/240 [==============================] - 0s 801us/step - loss: 27.4541\n",
            "Epoch 77/100\n",
            "240/240 [==============================] - 0s 813us/step - loss: 27.0291\n",
            "Epoch 78/100\n",
            "240/240 [==============================] - 0s 794us/step - loss: 26.4933\n",
            "Epoch 79/100\n",
            "240/240 [==============================] - 0s 862us/step - loss: 26.5533\n",
            "Epoch 80/100\n",
            "240/240 [==============================] - 0s 782us/step - loss: 26.9977\n",
            "Epoch 81/100\n",
            "240/240 [==============================] - 0s 808us/step - loss: 27.0895\n",
            "Epoch 82/100\n",
            "240/240 [==============================] - 0s 800us/step - loss: 26.7650\n",
            "Epoch 83/100\n",
            "240/240 [==============================] - 0s 788us/step - loss: 27.3599\n",
            "Epoch 84/100\n",
            "240/240 [==============================] - 0s 972us/step - loss: 26.7437\n",
            "Epoch 85/100\n",
            "240/240 [==============================] - 0s 845us/step - loss: 26.5957\n",
            "Epoch 86/100\n",
            "240/240 [==============================] - 0s 850us/step - loss: 27.4566\n",
            "Epoch 87/100\n",
            "240/240 [==============================] - 0s 781us/step - loss: 26.8747\n",
            "Epoch 88/100\n",
            "240/240 [==============================] - 0s 780us/step - loss: 26.6180\n",
            "Epoch 89/100\n",
            "240/240 [==============================] - 0s 898us/step - loss: 27.2340\n",
            "Epoch 90/100\n",
            "240/240 [==============================] - 0s 827us/step - loss: 26.8597\n",
            "Epoch 91/100\n",
            "240/240 [==============================] - 0s 836us/step - loss: 27.0415\n",
            "Epoch 92/100\n",
            "240/240 [==============================] - 0s 809us/step - loss: 26.3865\n",
            "Epoch 93/100\n",
            "240/240 [==============================] - 0s 911us/step - loss: 27.1402\n",
            "Epoch 94/100\n",
            "240/240 [==============================] - 0s 812us/step - loss: 26.8150\n",
            "Epoch 95/100\n",
            "240/240 [==============================] - 0s 812us/step - loss: 26.8459\n",
            "Epoch 96/100\n",
            "240/240 [==============================] - 0s 763us/step - loss: 27.1930\n",
            "Epoch 97/100\n",
            "240/240 [==============================] - 0s 769us/step - loss: 26.7654\n",
            "Epoch 98/100\n",
            "240/240 [==============================] - 0s 790us/step - loss: 27.3160\n",
            "Epoch 99/100\n",
            "240/240 [==============================] - 0s 1ms/step - loss: 27.5987\n",
            "Epoch 100/100\n",
            "240/240 [==============================] - 0s 815us/step - loss: 26.6924\n"
          ],
          "name": "stdout"
        },
        {
          "output_type": "execute_result",
          "data": {
            "text/plain": [
              "<tensorflow.python.keras.callbacks.History at 0x7f7f750a66a0>"
            ]
          },
          "metadata": {
            "tags": []
          },
          "execution_count": 7
        }
      ]
    },
    {
      "cell_type": "code",
      "metadata": {
        "colab": {
          "base_uri": "https://localhost:8080/"
        },
        "id": "fkkRxjRLmzxa",
        "outputId": "ba168cc6-0493-4708-8151-9750837cdc67"
      },
      "source": [
        "  # predicting test\n",
        "  y_pred = ann.predict(X_test)\n",
        "  np.printoptions(precision =2)\n",
        "  print(np.concatenate((y_pred.reshape(len(y_pred),1),y_test.reshape(len(y_test),1)),1))"
      ],
      "execution_count": 16,
      "outputs": [
        {
          "output_type": "stream",
          "text": [
            "[[431.68218994 431.23      ]\n",
            " [462.72348022 460.01      ]\n",
            " [466.22311401 461.14      ]\n",
            " ...\n",
            " [473.45339966 473.26      ]\n",
            " [440.24359131 438.        ]\n",
            " [459.44772339 463.28      ]]\n"
          ],
          "name": "stdout"
        }
      ]
    },
    {
      "cell_type": "code",
      "metadata": {
        "id": "WBaqu0BpxsIF"
      },
      "source": [
        ""
      ],
      "execution_count": null,
      "outputs": []
    }
  ]
}