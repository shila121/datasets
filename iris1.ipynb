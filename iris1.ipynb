{
  "nbformat": 4,
  "nbformat_minor": 0,
  "metadata": {
    "colab": {
      "name": "iris1.ipynb",
      "provenance": [],
      "authorship_tag": "ABX9TyP4/45XvfAqgrFq4MxksNQR",
      "include_colab_link": true
    },
    "kernelspec": {
      "name": "python3",
      "display_name": "Python 3"
    }
  },
  "cells": [
    {
      "cell_type": "markdown",
      "metadata": {
        "id": "view-in-github",
        "colab_type": "text"
      },
      "source": [
        "<a href=\"https://colab.research.google.com/github/shila121/datasets/blob/main/iris1.ipynb\" target=\"_parent\"><img src=\"https://colab.research.google.com/assets/colab-badge.svg\" alt=\"Open In Colab\"/></a>"
      ]
    },
    {
      "cell_type": "code",
      "metadata": {
        "id": "jTAx8iwiLRbG",
        "outputId": "72c4cb7c-e3ec-4b78-f2a6-2d09e1faabc0",
        "colab": {
          "base_uri": "https://localhost:8080/",
          "height": 340
        }
      },
      "source": [
        "# importing libraries\n",
        "import pandas as pd\n",
        "import numpy as np\n",
        "import matplotlib.pyplot as plt\n",
        "# import dataset\n",
        "data = pd.read_csv('iris.csv')\n",
        "print(data.head())\n",
        "print(data.columns)\n",
        "\n",
        "# Unnamed: 0 is for indexing,so drop this column\n",
        "data.drop('Unnamed: 0',axis=1,inplace=True)\n",
        "print(data.Species.value_counts())\n",
        "\n",
        "# predictors = ['Sepal.Length', 'Sepal.Width', 'Petal.Length','Petal.Width']\n",
        "# target = ['Species']\n",
        "# apply label encoder on the target\n",
        "from sklearn.preprocessing import LabelEncoder\n",
        "le = LabelEncoder()\n",
        "data['Species'] = le.fit_transform(data['Species'])\n",
        "print(data.head())\n",
        "\n"
      ],
      "execution_count": null,
      "outputs": [
        {
          "output_type": "stream",
          "text": [
            "   Unnamed: 0  Sepal.Length  Sepal.Width  Petal.Length  Petal.Width Species\n",
            "0           1           5.1          3.5           1.4          0.2  setosa\n",
            "1           2           4.9          3.0           1.4          0.2  setosa\n",
            "2           3           4.7          3.2           1.3          0.2  setosa\n",
            "3           4           4.6          3.1           1.5          0.2  setosa\n",
            "4           5           5.0          3.6           1.4          0.2  setosa\n",
            "Index(['Unnamed: 0', 'Sepal.Length', 'Sepal.Width', 'Petal.Length',\n",
            "       'Petal.Width', 'Species'],\n",
            "      dtype='object')\n",
            "setosa        50\n",
            "virginica     50\n",
            "versicolor    50\n",
            "Name: Species, dtype: int64\n",
            "   Sepal.Length  Sepal.Width  Petal.Length  Petal.Width  Species\n",
            "0           5.1          3.5           1.4          0.2        0\n",
            "1           4.9          3.0           1.4          0.2        0\n",
            "2           4.7          3.2           1.3          0.2        0\n",
            "3           4.6          3.1           1.5          0.2        0\n",
            "4           5.0          3.6           1.4          0.2        0\n"
          ],
          "name": "stdout"
        }
      ]
    },
    {
      "cell_type": "code",
      "metadata": {
        "id": "Gl951Gqx0nam",
        "outputId": "56b4c69a-4a5d-444d-ab7f-04fd8132a1ab",
        "colab": {
          "base_uri": "https://localhost:8080/",
          "height": 360
        }
      },
      "source": [
        "# now we will carry out hypothesis testing:\n",
        "# Null Hypothesis:there is no relationship between the predictors and the target\n",
        "# Alternate Hypothesis:there is relationship between the predictors and the target\n",
        "from statsmodels.stats import weightstats as stests\n",
        "\n",
        "cols = ['Sepal.Length', 'Sepal.Width', 'Petal.Length','Petal.Width']\n",
        "significant_cols = []\n",
        "for i in cols:\n",
        "  p_val = stests.ztest(data[i],data['Species'])\n",
        "  p = p_val[1]\n",
        "  print('columns:-->',i)\n",
        "  print(\"p:\",p)\n",
        "  if p < 0.05:\n",
        "    status = 'Reject Null Hypothesis,Significant predictors'\n",
        "    print(\"status:\",status)\n",
        "    significant_cols.append(i)\n",
        "  else:\n",
        "    status = 'Accept Null Hypothesis,Insignificant predictor'\n",
        "    print(\"status:\",status)\n",
        "  print(\"------------------------------------------------------------------\")\n",
        "\n",
        "print(\"significant predictors:\",significant_cols)\n",
        "\n"
      ],
      "execution_count": null,
      "outputs": [
        {
          "output_type": "stream",
          "text": [
            "columns:--> Sepal.Length\n",
            "p: 0.0\n",
            "status: Reject Null Hypothesis,Significant predictors\n",
            "------------------------------------------------------------------\n",
            "columns:--> Sepal.Width\n",
            "p: 2.3315298946420345e-162\n",
            "status: Reject Null Hypothesis,Significant predictors\n",
            "------------------------------------------------------------------\n",
            "columns:--> Petal.Length\n",
            "p: 1.753961875268876e-67\n",
            "status: Reject Null Hypothesis,Significant predictors\n",
            "------------------------------------------------------------------\n",
            "columns:--> Petal.Width\n",
            "p: 0.029130629839179852\n",
            "status: Reject Null Hypothesis,Significant predictors\n",
            "------------------------------------------------------------------\n",
            "significant predictors: ['Sepal.Length', 'Sepal.Width', 'Petal.Length', 'Petal.Width']\n"
          ],
          "name": "stdout"
        },
        {
          "output_type": "stream",
          "text": [
            "/usr/local/lib/python3.6/dist-packages/statsmodels/tools/_testing.py:19: FutureWarning: pandas.util.testing is deprecated. Use the functions in the public API at pandas.testing instead.\n",
            "  import pandas.util.testing as tm\n"
          ],
          "name": "stderr"
        }
      ]
    },
    {
      "cell_type": "code",
      "metadata": {
        "id": "4NA2Su2x13se",
        "outputId": "bcf06c8b-fcb6-4c40-84f3-df1284c9c079",
        "colab": {
          "base_uri": "https://localhost:8080/",
          "height": 476
        }
      },
      "source": [
        "# now building ols model:\n",
        "import statsmodels.api as sm\n",
        "cols = ['Sepal.Length', 'Sepal.Width', 'Petal.Length','Petal.Width']\n",
        "a= data[['Sepal.Length', 'Sepal.Width', 'Petal.Length','Petal.Width']]\n",
        "model = sm.OLS(data['Species'],a).fit()\n",
        "model_prediction = model.predict(a)\n",
        "model_details = model.summary()\n",
        "print(model_details)"
      ],
      "execution_count": null,
      "outputs": [
        {
          "output_type": "stream",
          "text": [
            "                                 OLS Regression Results                                \n",
            "=======================================================================================\n",
            "Dep. Variable:                Species   R-squared (uncentered):                   0.972\n",
            "Model:                            OLS   Adj. R-squared (uncentered):              0.971\n",
            "Method:                 Least Squares   F-statistic:                              1267.\n",
            "Date:                Tue, 27 Oct 2020   Prob (F-statistic):                   3.17e-112\n",
            "Time:                        14:43:48   Log-Likelihood:                          17.009\n",
            "No. Observations:                 150   AIC:                                     -26.02\n",
            "Df Residuals:                     146   BIC:                                     -13.98\n",
            "Df Model:                           4                                                  \n",
            "Covariance Type:            nonrobust                                                  \n",
            "================================================================================\n",
            "                   coef    std err          t      P>|t|      [0.025      0.975]\n",
            "--------------------------------------------------------------------------------\n",
            "Sepal.Length    -0.0845      0.049     -1.720      0.088      -0.182       0.013\n",
            "Sepal.Width     -0.0236      0.057     -0.415      0.679      -0.136       0.089\n",
            "Petal.Length     0.2249      0.057      3.968      0.000       0.113       0.337\n",
            "Petal.Width      0.5997      0.094      6.392      0.000       0.414       0.785\n",
            "==============================================================================\n",
            "Omnibus:                        0.384   Durbin-Watson:                   1.149\n",
            "Prob(Omnibus):                  0.825   Jarque-Bera (JB):                0.128\n",
            "Skew:                          -0.026   Prob(JB):                        0.938\n",
            "Kurtosis:                       3.133   Cond. No.                         50.9\n",
            "==============================================================================\n",
            "\n",
            "Warnings:\n",
            "[1] Standard Errors assume that the covariance matrix of the errors is correctly specified.\n"
          ],
          "name": "stdout"
        }
      ]
    },
    {
      "cell_type": "code",
      "metadata": {
        "id": "t1_glr3A7yER",
        "outputId": "494b135e-e419-479b-bc95-d8f19016c17f",
        "colab": {
          "base_uri": "https://localhost:8080/",
          "height": 1000
        }
      },
      "source": [
        "# now we will proceed with Univariate analysis\n",
        "# we will do univariate analysis by distplot/histogram and boxplot\n",
        "import seaborn as sns\n",
        "\n",
        "for i in cols:\n",
        "  plt.subplot(1,2,1)\n",
        "  sns.distplot(data[i])\n",
        "  plt.xlabel(i)\n",
        "  plt.ylabel('values')\n",
        "\n",
        "  plt.subplot(1,2,2)\n",
        "  plt.boxplot(data[i])\n",
        "  plt.xlabel(i)\n",
        "  plt.ylabel('values')\n",
        "  plt.show()\n",
        "\n"
      ],
      "execution_count": null,
      "outputs": [
        {
          "output_type": "stream",
          "text": [
            "/usr/local/lib/python3.6/dist-packages/seaborn/distributions.py:2551: FutureWarning: `distplot` is a deprecated function and will be removed in a future version. Please adapt your code to use either `displot` (a figure-level function with similar flexibility) or `histplot` (an axes-level function for histograms).\n",
            "  warnings.warn(msg, FutureWarning)\n"
          ],
          "name": "stderr"
        },
        {
          "output_type": "display_data",
          "data": {
            "image/png": "[encoded data removed]",
            "text/plain": [
              "<Figure size 432x288 with 2 Axes>"
            ]
          },
          "metadata": {
            "tags": [],
            "needs_background": "light"
          }
        },
        {
          "output_type": "stream",
          "text": [
            "/usr/local/lib/python3.6/dist-packages/seaborn/distributions.py:2551: FutureWarning: `distplot` is a deprecated function and will be removed in a future version. Please adapt your code to use either `displot` (a figure-level function with similar flexibility) or `histplot` (an axes-level function for histograms).\n",
            "  warnings.warn(msg, FutureWarning)\n"
          ],
          "name": "stderr"
        },
        {
          "output_type": "display_data",
          "data": {
            "image/png": "[encoded data removed]",
            "text/plain": [
              "<Figure size 432x288 with 2 Axes>"
            ]
          },
          "metadata": {
            "tags": [],
            "needs_background": "light"
          }
        },
        {
          "output_type": "stream",
          "text": [
            "/usr/local/lib/python3.6/dist-packages/seaborn/distributions.py:2551: FutureWarning: `distplot` is a deprecated function and will be removed in a future version. Please adapt your code to use either `displot` (a figure-level function with similar flexibility) or `histplot` (an axes-level function for histograms).\n",
            "  warnings.warn(msg, FutureWarning)\n"
          ],
          "name": "stderr"
        },
        {
          "output_type": "display_data",
          "data": {
            "image/png": "[encoded data removed]",
            "text/plain": [
              "<Figure size 432x288 with 2 Axes>"
            ]
          },
          "metadata": {
            "tags": [],
            "needs_background": "light"
          }
        },
        {
          "output_type": "stream",
          "text": [
            "/usr/local/lib/python3.6/dist-packages/seaborn/distributions.py:2551: FutureWarning: `distplot` is a deprecated function and will be removed in a future version. Please adapt your code to use either `displot` (a figure-level function with similar flexibility) or `histplot` (an axes-level function for histograms).\n",
            "  warnings.warn(msg, FutureWarning)\n"
          ],
          "name": "stderr"
        },
        {
          "output_type": "display_data",
          "data": {
            "image/png": "[encoded data removed]",
            "text/plain": [
              "<Figure size 432x288 with 2 Axes>"
            ]
          },
          "metadata": {
            "tags": [],
            "needs_background": "light"
          }
        }
      ]
    },
    {
      "cell_type": "code",
      "metadata": {
        "id": "2layiSQkBXMc",
        "outputId": "7a40cbe4-e104-4afd-9171-e5ad0816a892",
        "colab": {
          "base_uri": "https://localhost:8080/",
          "height": 119
        }
      },
      "source": [
        "# Analysis:Sepal.Width has outlier and needs outlier treatment.\n",
        "# Bivariate analysis\n",
        "# Bivariate analysis can be done by correlation matrix\n",
        "\n",
        "matrix = data.corr()\n",
        "print(matrix)"
      ],
      "execution_count": null,
      "outputs": [
        {
          "output_type": "stream",
          "text": [
            "              Sepal.Length  Sepal.Width  Petal.Length  Petal.Width   Species\n",
            "Sepal.Length      1.000000    -0.117570      0.871754     0.817941  0.782561\n",
            "Sepal.Width      -0.117570     1.000000     -0.428440    -0.366126 -0.426658\n",
            "Petal.Length      0.871754    -0.428440      1.000000     0.962865  0.949035\n",
            "Petal.Width       0.817941    -0.366126      0.962865     1.000000  0.956547\n",
            "Species           0.782561    -0.426658      0.949035     0.956547  1.000000\n"
          ],
          "name": "stdout"
        }
      ]
    },
    {
      "cell_type": "code",
      "metadata": {
        "id": "bSolX2GkHBOp",
        "outputId": "7186105c-b223-4252-d379-35824a3c35f4",
        "colab": {
          "base_uri": "https://localhost:8080/",
          "height": 342
        }
      },
      "source": [
        "sns.heatmap(matrix,annot=True)"
      ],
      "execution_count": null,
      "outputs": [
        {
          "output_type": "execute_result",
          "data": {
            "text/plain": [
              "<matplotlib.axes._subplots.AxesSubplot at 0x7f52b69b6cf8>"
            ]
          },
          "metadata": {
            "tags": []
          },
          "execution_count": 6
        },
        {
          "output_type": "display_data",
          "data": {
            "image/png": "[encoded data removed]",
            "text/plain": [
              "<Figure size 432x288 with 2 Axes>"
            ]
          },
          "metadata": {
            "tags": [],
            "needs_background": "light"
          }
        }
      ]
    },
    {
      "cell_type": "code",
      "metadata": {
        "id": "8kaIPi7sHMM8",
        "outputId": "b1740a31-1dc8-41d6-80f4-928aea14e769",
        "colab": {
          "base_uri": "https://localhost:8080/",
          "height": 119
        }
      },
      "source": [
        "# Analysis:'Sepal.Width' is not related to Species\n",
        "# towards building the model\n",
        "# missing value treatment\n",
        "data.isnull().sum()\n",
        "# analysis:no missing value"
      ],
      "execution_count": null,
      "outputs": [
        {
          "output_type": "execute_result",
          "data": {
            "text/plain": [
              "Sepal.Length    0\n",
              "Sepal.Width     0\n",
              "Petal.Length    0\n",
              "Petal.Width     0\n",
              "Species         0\n",
              "dtype: int64"
            ]
          },
          "metadata": {
            "tags": []
          },
          "execution_count": 7
        }
      ]
    },
    {
      "cell_type": "code",
      "metadata": {
        "id": "XlmN35q6H1pv",
        "outputId": "8cfe9b57-19c6-46af-daaf-5c9106de77c6",
        "colab": {
          "base_uri": "https://localhost:8080/",
          "height": 265
        }
      },
      "source": [
        "# outlier tratment\n",
        "data['Sepal.Width'] = np.log(data['Sepal.Width'])\n",
        "plt.boxplot(data['Sepal.Width'])\n",
        "\n",
        "plt.show()"
      ],
      "execution_count": null,
      "outputs": [
        {
          "output_type": "display_data",
          "data": {
            "image/png": "[encoded data removed]",
            "text/plain": [
              "<Figure size 432x288 with 1 Axes>"
            ]
          },
          "metadata": {
            "tags": [],
            "needs_background": "light"
          }
        }
      ]
    },
    {
      "cell_type": "code",
      "metadata": {
        "id": "lPsMyBaIJi8y"
      },
      "source": [
        "# towards building model\n",
        "X=data.iloc[:,:-1].values\n",
        "y=data.iloc[:,-1].values\n",
        "from sklearn.model_selection import train_test_split\n",
        "X_train,X_test,y_train,y_test = train_test_split(X,y,test_size = 0.2,random_state = 0)"
      ],
      "execution_count": null,
      "outputs": []
    },
    {
      "cell_type": "code",
      "metadata": {
        "id": "MhdDP7NhKbKD",
        "outputId": "917dfd6e-e629-45eb-c129-bb8868be6b16",
        "colab": {
          "base_uri": "https://localhost:8080/",
          "height": 1000
        }
      },
      "source": [
        "# different models to be used for comparison\n",
        "from sklearn.linear_model import LogisticRegression\n",
        "from sklearn.neighbors import KNeighborsClassifier\n",
        "from sklearn.naive_bayes import GaussianNB\n",
        "from sklearn.svm import SVC\n",
        "from sklearn.tree import DecisionTreeClassifier\n",
        "from sklearn import model_selection\n",
        "\n",
        "models = []\n",
        "models.append(('LogisticRegression',LogisticRegression()))\n",
        "models.append((\"KNN\",KNeighborsClassifier()))\n",
        "models.append(('naive_bayes',GaussianNB()))\n",
        "models.append(('svm',SVC()))\n",
        "models.append(('decision tree',DecisionTreeClassifier()))\n",
        "\n",
        "for name,model in models:\n",
        "  cv_results = model_selection.cross_val_score(model,X_train,y_train,cv=20,scoring ='accuracy')\n",
        "  cv_results = np.sqrt(abs(cv_results))\n",
        "  \n",
        "  print('model name:{0},CV mean :{1},CV std:{2}'.format(name,cv_results.mean(),cv_results.std()))"
      ],
      "execution_count": null,
      "outputs": [
        {
          "output_type": "stream",
          "text": [
            "/usr/local/lib/python3.6/dist-packages/sklearn/linear_model/_logistic.py:940: ConvergenceWarning: lbfgs failed to converge (status=1):\n",
            "STOP: TOTAL NO. of ITERATIONS REACHED LIMIT.\n",
            "\n",
            "Increase the number of iterations (max_iter) or scale the data as shown in:\n",
            "    https://scikit-learn.org/stable/modules/preprocessing.html\n",
            "Please also refer to the documentation for alternative solver options:\n",
            "    https://scikit-learn.org/stable/modules/linear_model.html#logistic-regression\n",
            "  extra_warning_msg=_LOGISTIC_SOLVER_CONVERGENCE_MSG)\n",
            "/usr/local/lib/python3.6/dist-packages/sklearn/linear_model/_logistic.py:940: ConvergenceWarning: lbfgs failed to converge (status=1):\n",
            "STOP: TOTAL NO. of ITERATIONS REACHED LIMIT.\n",
            "\n",
            "Increase the number of iterations (max_iter) or scale the data as shown in:\n",
            "    https://scikit-learn.org/stable/modules/preprocessing.html\n",
            "Please also refer to the documentation for alternative solver options:\n",
            "    https://scikit-learn.org/stable/modules/linear_model.html#logistic-regression\n",
            "  extra_warning_msg=_LOGISTIC_SOLVER_CONVERGENCE_MSG)\n",
            "/usr/local/lib/python3.6/dist-packages/sklearn/linear_model/_logistic.py:940: ConvergenceWarning: lbfgs failed to converge (status=1):\n",
            "STOP: TOTAL NO. of ITERATIONS REACHED LIMIT.\n",
            "\n",
            "Increase the number of iterations (max_iter) or scale the data as shown in:\n",
            "    https://scikit-learn.org/stable/modules/preprocessing.html\n",
            "Please also refer to the documentation for alternative solver options:\n",
            "    https://scikit-learn.org/stable/modules/linear_model.html#logistic-regression\n",
            "  extra_warning_msg=_LOGISTIC_SOLVER_CONVERGENCE_MSG)\n",
            "/usr/local/lib/python3.6/dist-packages/sklearn/linear_model/_logistic.py:940: ConvergenceWarning: lbfgs failed to converge (status=1):\n",
            "STOP: TOTAL NO. of ITERATIONS REACHED LIMIT.\n",
            "\n",
            "Increase the number of iterations (max_iter) or scale the data as shown in:\n",
            "    https://scikit-learn.org/stable/modules/preprocessing.html\n",
            "Please also refer to the documentation for alternative solver options:\n",
            "    https://scikit-learn.org/stable/modules/linear_model.html#logistic-regression\n",
            "  extra_warning_msg=_LOGISTIC_SOLVER_CONVERGENCE_MSG)\n",
            "/usr/local/lib/python3.6/dist-packages/sklearn/linear_model/_logistic.py:940: ConvergenceWarning: lbfgs failed to converge (status=1):\n",
            "STOP: TOTAL NO. of ITERATIONS REACHED LIMIT.\n",
            "\n",
            "Increase the number of iterations (max_iter) or scale the data as shown in:\n",
            "    https://scikit-learn.org/stable/modules/preprocessing.html\n",
            "Please also refer to the documentation for alternative solver options:\n",
            "    https://scikit-learn.org/stable/modules/linear_model.html#logistic-regression\n",
            "  extra_warning_msg=_LOGISTIC_SOLVER_CONVERGENCE_MSG)\n",
            "/usr/local/lib/python3.6/dist-packages/sklearn/linear_model/_logistic.py:940: ConvergenceWarning: lbfgs failed to converge (status=1):\n",
            "STOP: TOTAL NO. of ITERATIONS REACHED LIMIT.\n",
            "\n",
            "Increase the number of iterations (max_iter) or scale the data as shown in:\n",
            "    https://scikit-learn.org/stable/modules/preprocessing.html\n",
            "Please also refer to the documentation for alternative solver options:\n",
            "    https://scikit-learn.org/stable/modules/linear_model.html#logistic-regression\n",
            "  extra_warning_msg=_LOGISTIC_SOLVER_CONVERGENCE_MSG)\n",
            "/usr/local/lib/python3.6/dist-packages/sklearn/linear_model/_logistic.py:940: ConvergenceWarning: lbfgs failed to converge (status=1):\n",
            "STOP: TOTAL NO. of ITERATIONS REACHED LIMIT.\n",
            "\n",
            "Increase the number of iterations (max_iter) or scale the data as shown in:\n",
            "    https://scikit-learn.org/stable/modules/preprocessing.html\n",
            "Please also refer to the documentation for alternative solver options:\n",
            "    https://scikit-learn.org/stable/modules/linear_model.html#logistic-regression\n",
            "  extra_warning_msg=_LOGISTIC_SOLVER_CONVERGENCE_MSG)\n",
            "/usr/local/lib/python3.6/dist-packages/sklearn/linear_model/_logistic.py:940: ConvergenceWarning: lbfgs failed to converge (status=1):\n",
            "STOP: TOTAL NO. of ITERATIONS REACHED LIMIT.\n",
            "\n",
            "Increase the number of iterations (max_iter) or scale the data as shown in:\n",
            "    https://scikit-learn.org/stable/modules/preprocessing.html\n",
            "Please also refer to the documentation for alternative solver options:\n",
            "    https://scikit-learn.org/stable/modules/linear_model.html#logistic-regression\n",
            "  extra_warning_msg=_LOGISTIC_SOLVER_CONVERGENCE_MSG)\n"
          ],
          "name": "stderr"
        },
        {
          "output_type": "stream",
          "text": [
            "Model Name:LogisticRegression,CV mean :0.9782177322938193,CV std:0.03772799437117189\n",
            "Model Name:KNN,CV mean :0.9777554684226779,CV std:0.04824497178860393\n",
            "Model Name:naive_bayes,CV mean :0.9738612787525831,CV std:0.0399275562285462\n",
            "Model Name:svm,CV mean :0.9733990148814418,CV std:0.04994354640830876\n",
            "Model Name:decision tree,CV mean :0.969504825211347,CV std:0.04155791812136842\n"
          ],
          "name": "stdout"
        },
        {
          "output_type": "stream",
          "text": [
            "/usr/local/lib/python3.6/dist-packages/sklearn/linear_model/_logistic.py:940: ConvergenceWarning: lbfgs failed to converge (status=1):\n",
            "STOP: TOTAL NO. of ITERATIONS REACHED LIMIT.\n",
            "\n",
            "Increase the number of iterations (max_iter) or scale the data as shown in:\n",
            "    https://scikit-learn.org/stable/modules/preprocessing.html\n",
            "Please also refer to the documentation for alternative solver options:\n",
            "    https://scikit-learn.org/stable/modules/linear_model.html#logistic-regression\n",
            "  extra_warning_msg=_LOGISTIC_SOLVER_CONVERGENCE_MSG)\n"
          ],
          "name": "stderr"
        }
      ]
    },
    {
      "cell_type": "code",
      "metadata": {
        "id": "H9P0VyRiMlz6"
      },
      "source": [
        "# we saw logistic regression performing better\n",
        "# so proceeding with logistic regression\n",
        "lr = LogisticRegression()\n",
        "lr.fit(X_train,y_train)\n",
        "y_pred = lr.predict(X_test)\n",
        "\n"
      ],
      "execution_count": null,
      "outputs": []
    },
    {
      "cell_type": "code",
      "metadata": {
        "id": "xRyvAy15h6f6",
        "outputId": "76d8c2e6-14e9-4de2-83da-fe2d92abc21d",
        "colab": {
          "base_uri": "https://localhost:8080/",
          "height": 326
        }
      },
      "source": [
        "from sklearn.metrics import confusion_matrix,accuracy_score,roc_curve\n",
        "cm = confusion_matrix(y_test,y_pred)\n",
        "print(cm)\n",
        "plt.matshow(cm,cmap=plt.cm.gray)\n",
        "plt.show()"
      ],
      "execution_count": null,
      "outputs": [
        {
          "output_type": "stream",
          "text": [
            "[[11  0  0]\n",
            " [ 0 13  0]\n",
            " [ 0  0  6]]\n"
          ],
          "name": "stdout"
        },
        {
          "output_type": "display_data",
          "data": {
            "image/png": "[encoded data removed]",
            "text/plain": [
              "<Figure size 288x288 with 1 Axes>"
            ]
          },
          "metadata": {
            "tags": [],
            "needs_background": "light"
          }
        }
      ]
    },
    {
      "cell_type": "code",
      "metadata": {
        "id": "N2Bs0KKXm2u4",
        "outputId": "667143ec-ca48-482a-dfa5-ec8a0ebb47cf",
        "colab": {
          "base_uri": "https://localhost:8080/",
          "height": 34
        }
      },
      "source": [
        "print(\"accuracy score\",accuracy_score(y_test,y_pred))\n"
      ],
      "execution_count": null,
      "outputs": [
        {
          "output_type": "stream",
          "text": [
            "accuracy score 1.0\n"
          ],
          "name": "stdout"
        }
      ]
    },
    {
      "cell_type": "code",
      "metadata": {
        "id": "SGIEzjz9nDqX"
      },
      "source": [
        ""
      ],
      "execution_count": null,
      "outputs": []
    },
    {
      "cell_type": "code",
      "metadata": {
        "id": "35IcZ4BBpMTd"
      },
      "source": [
        ""
      ],
      "execution_count": null,
      "outputs": []
    }
  ]
}